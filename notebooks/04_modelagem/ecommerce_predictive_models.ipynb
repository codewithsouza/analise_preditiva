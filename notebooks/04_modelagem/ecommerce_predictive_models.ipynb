﻿{
  "cells": [
    {
      "cell_type": "markdown",
      "metadata": {},
      "source": [
        "# ≡ƒñû Modelagem Preditiva - E-commerce\n",
        "\n",
        "Este notebook implementa modelos preditivos para prever vendas do e-commerce.\n",
        "\n",
        "**Objetivos:**\n",
        "1. Prever **Revenue** usando regress├úo (Random Forest)\n",
        "2. Prever vendas futuras usando **s├⌐ries temporais** (ARIMA/SARIMA e Prophet)\n",
        "\n",
        "**Dados:** Arquivos processados de `data/processed/`\n"
      ]
    },
    {
      "cell_type": "markdown",
      "metadata": {},
      "source": [
        "## 1. Setup e Carregamento de Dados\n"
      ]
    },
    {
      "cell_type": "code",
      "execution_count": 1,
      "metadata": {},
      "outputs": [
        {
          "name": "stdout",
          "output_type": "stream",
          "text": [
            "Bibliotecas carregadas com sucesso!\n"
          ]
        }
      ],
      "source": [
        "# Imports\n",
        "import pandas as pd\n",
        "import numpy as np\n",
        "import matplotlib.pyplot as plt\n",
        "import seaborn as sns\n",
        "from pathlib import Path\n",
        "from glob import glob\n",
        "import warnings\n",
        "warnings.filterwarnings(\"ignore\")\n",
        "\n",
        "# Configura├º├╡es\n",
        "%matplotlib inline\n",
        "sns.set_style(\"whitegrid\")\n",
        "plt.rcParams['figure.figsize'] = (14, 6)\n",
        "\n",
        "print(\"Bibliotecas carregadas com sucesso!\")\n"
      ]
    },
    {
      "cell_type": "code",
      "execution_count": 2,
      "metadata": {},
      "outputs": [
        {
          "name": "stdout",
          "output_type": "stream",
          "text": [
            "ERRO: Arquivo n├úo encontrado!\n",
            "Execute primeiro: notebooks/01_exploracao/ecommerce_eda.ipynb\n"
          ]
        }
      ],
      "source": [
        "# Carregar dados processados\n",
        "processed_path = Path(\"../../data/processed/ecommerce_clean.parquet\")\n",
        "\n",
        "if not processed_path.exists():\n",
        "    print(\"ERRO: Arquivo n├úo encontrado!\")\n",
        "    print(\"Execute primeiro: notebooks/01_exploracao/ecommerce_eda.ipynb\")\n",
        "else:\n",
        "    df = pd.read_parquet(processed_path)\n",
        "    print(f\"Dataset carregado: {df.shape[0]:,} linhas x {df.shape[1]} colunas\")\n",
        "    print(f\"Per├¡odo: {df['Order Date'].min()} at├⌐ {df['Order Date'].max()}\")\n",
        "    print(f\"\\nColunas dispon├¡veis:\")\n",
        "    print(df.columns.tolist())\n"
      ]
    },
    {
      "cell_type": "markdown",
      "metadata": {},
      "source": [
        "## 2. Feature Engineering para Modelagem\n"
      ]
    },
    {
      "cell_type": "code",
      "execution_count": 3,
      "metadata": {},
      "outputs": [
        {
          "ename": "NameError",
          "evalue": "name 'df' is not defined",
          "output_type": "error",
          "traceback": [
            "\u001b[31m---------------------------------------------------------------------------\u001b[39m",
            "\u001b[31mNameError\u001b[39m                                 Traceback (most recent call last)",
            "\u001b[36mCell\u001b[39m\u001b[36m \u001b[39m\u001b[32mIn[3]\u001b[39m\u001b[32m, line 2\u001b[39m\n\u001b[32m      1\u001b[39m \u001b[38;5;66;03m# Renomear colunas para consist├¬ncia\u001b[39;00m\n\u001b[32m----> \u001b[39m\u001b[32m2\u001b[39m df = \u001b[43mdf\u001b[49m.rename(columns={\n\u001b[32m      3\u001b[39m     \u001b[33m\"\u001b[39m\u001b[33mOrder Date\u001b[39m\u001b[33m\"\u001b[39m: \u001b[33m\"\u001b[39m\u001b[33mOrderDate\u001b[39m\u001b[33m\"\u001b[39m,\n\u001b[32m      4\u001b[39m     \u001b[33m\"\u001b[39m\u001b[33mQuantity Ordered\u001b[39m\u001b[33m\"\u001b[39m: \u001b[33m\"\u001b[39m\u001b[33mQuantity\u001b[39m\u001b[33m\"\u001b[39m,\n\u001b[32m      5\u001b[39m     \u001b[33m\"\u001b[39m\u001b[33mPrice Each\u001b[39m\u001b[33m\"\u001b[39m: \u001b[33m\"\u001b[39m\u001b[33mPrice\u001b[39m\u001b[33m\"\u001b[39m\n\u001b[32m      6\u001b[39m })\n\u001b[32m      8\u001b[39m \u001b[38;5;66;03m# Adicionar features temporais se n├úo existirem\u001b[39;00m\n\u001b[32m      9\u001b[39m \u001b[38;5;28;01mif\u001b[39;00m \u001b[33m\"\u001b[39m\u001b[33mYear\u001b[39m\u001b[33m\"\u001b[39m \u001b[38;5;129;01mnot\u001b[39;00m \u001b[38;5;129;01min\u001b[39;00m df.columns:\n",
            "\u001b[31mNameError\u001b[39m: name 'df' is not defined"
          ]
        }
      ],
      "source": [
        "# Renomear colunas para consist├¬ncia\n",
        "df = df.rename(columns={\n",
        "    \"Order Date\": \"OrderDate\",\n",
        "    \"Quantity Ordered\": \"Quantity\",\n",
        "    \"Price Each\": \"Price\"\n",
        "})\n",
        "\n",
        "# Adicionar features temporais se n├úo existirem\n",
        "if \"Year\" not in df.columns:\n",
        "    df[\"Year\"] = df[\"OrderDate\"].dt.year\n",
        "    df[\"Month_num\"] = df[\"OrderDate\"].dt.month\n",
        "    df[\"Day\"] = df[\"OrderDate\"].dt.day\n",
        "    df[\"Hour\"] = df[\"OrderDate\"].dt.hour\n",
        "    df[\"Dow\"] = df[\"OrderDate\"].dt.dayofweek  # 0=segunda\n",
        "\n",
        "print(\"Features temporais criadas!\")\n",
        "print(df[[\"OrderDate\", \"Year\", \"Month_num\", \"Day\", \"Hour\", \"Dow\", \"Revenue\"]].head())\n"
      ]
    },
    {
      "cell_type": "markdown",
      "metadata": {},
      "source": [
        "---\n",
        "\n",
        "# PARTE 1: REGRESS├âO (Random Forest)\n",
        "\n",
        "**Objetivo:** Prever Revenue usando features como Produto, Cidade, Estado, Hora, etc.\n"
      ]
    },
    {
      "cell_type": "markdown",
      "metadata": {},
      "source": [
        "## 3. Prepara├º├úo: Agrega├º├úo Mensal por Produto e Cidade\n"
      ]
    },
    {
      "cell_type": "code",
      "execution_count": null,
      "metadata": {},
      "outputs": [],
      "source": [
        "# Agregar por m├¬s ├ù produto ├ù cidade para reduzir ru├¡do\n",
        "agg = (df\n",
        "       .assign(YearMonth=df[\"OrderDate\"].dt.to_period(\"M\").dt.to_timestamp())\n",
        "       .groupby([\"YearMonth\", \"Product\", \"City\", \"State\"], as_index=False)\n",
        "       .agg(\n",
        "           Quantity=(\"Quantity\", \"sum\"),\n",
        "           Revenue=(\"Revenue\", \"sum\"),\n",
        "           AvgPrice=(\"Price\", \"mean\")\n",
        "       )\n",
        ")\n",
        "\n",
        "# Adicionar features temporais do YearMonth\n",
        "agg[\"YM_year\"] = agg[\"YearMonth\"].dt.year\n",
        "agg[\"YM_month\"] = agg[\"YearMonth\"].dt.month\n",
        "\n",
        "print(f\"Dataset agregado: {agg.shape[0]:,} linhas\")\n",
        "print(f\"Per├¡odo: {agg['YearMonth'].min()} at├⌐ {agg['YearMonth'].max()}\")\n",
        "print(f\"\\nPrimeiras linhas:\")\n",
        "print(agg.head(10))\n"
      ]
    },
    {
      "cell_type": "markdown",
      "metadata": {},
      "source": [
        "## 4. Split Temporal (Treino/Teste)\n"
      ]
    },
    {
      "cell_type": "code",
      "execution_count": null,
      "metadata": {},
      "outputs": [],
      "source": [
        "# Split temporal: 80% treino, 20% teste\n",
        "cutoff = agg[\"YearMonth\"].quantile(0.8)\n",
        "print(f\"Cutoff: {cutoff}\")\n",
        "print(f\"Treino: at├⌐ {cutoff}\")\n",
        "print(f\"Teste: a partir de {cutoff}\")\n",
        "\n",
        "train = agg[agg[\"YearMonth\"] < cutoff].copy()\n",
        "test = agg[agg[\"YearMonth\"] >= cutoff].copy()\n",
        "\n",
        "print(f\"\\nTreino: {train.shape[0]:,} linhas\")\n",
        "print(f\"Teste: {test.shape[0]:,} linhas\")\n",
        "\n",
        "# Preparar X e y\n",
        "features_cols = [\"Product\", \"City\", \"State\", \"YM_year\", \"YM_month\", \"AvgPrice\"]\n",
        "target = \"Revenue\"\n",
        "\n",
        "X_train = train[features_cols]\n",
        "y_train = train[target]\n",
        "X_test = test[features_cols]\n",
        "y_test = test[target]\n",
        "\n",
        "print(f\"\\nX_train shape: {X_train.shape}\")\n",
        "print(f\"X_test shape: {X_test.shape}\")\n"
      ]
    },
    {
      "cell_type": "markdown",
      "metadata": {},
      "source": [
        "## 5. Pipeline: Pr├⌐-processamento + Random Forest\n"
      ]
    },
    {
      "cell_type": "code",
      "execution_count": null,
      "metadata": {},
      "outputs": [],
      "source": [
        "from sklearn.compose import ColumnTransformer\n",
        "from sklearn.preprocessing import OneHotEncoder\n",
        "from sklearn.pipeline import Pipeline\n",
        "from sklearn.ensemble import RandomForestRegressor\n",
        "\n",
        "# Pipeline de pr├⌐-processamento\n",
        "preprocessor = ColumnTransformer([\n",
        "    (\"cat\", OneHotEncoder(handle_unknown=\"ignore\"), [\"Product\", \"City\", \"State\"]),\n",
        "    (\"num\", \"passthrough\", [\"YM_year\", \"YM_month\", \"AvgPrice\"])\n",
        "])\n",
        "\n",
        "# Modelo Random Forest\n",
        "rf = RandomForestRegressor(\n",
        "    n_estimators=200,\n",
        "    max_depth=15,\n",
        "    min_samples_split=5,\n",
        "    min_samples_leaf=2,\n",
        "    random_state=42,\n",
        "    n_jobs=-1,\n",
        "    verbose=0\n",
        ")\n",
        "\n",
        "# Pipeline completo\n",
        "pipe = Pipeline([\n",
        "    (\"prep\", preprocessor),\n",
        "    (\"model\", rf)\n",
        "])\n",
        "\n",
        "print(\"Pipeline criado!\")\n",
        "print(\"Treinando modelo Random Forest...\")\n"
      ]
    },
    {
      "cell_type": "code",
      "execution_count": null,
      "metadata": {},
      "outputs": [],
      "source": [
        "# Treinar modelo\n",
        "import time\n",
        "start = time.time()\n",
        "pipe.fit(X_train, y_train)\n",
        "elapsed = time.time() - start\n",
        "\n",
        "print(f\"Γ£à Modelo treinado em {elapsed:.2f} segundos!\")\n"
      ]
    },
    {
      "cell_type": "markdown",
      "metadata": {},
      "source": [
        "## 6. Avalia├º├úo do Modelo de Regress├úo\n"
      ]
    },
    {
      "cell_type": "code",
      "execution_count": null,
      "metadata": {},
      "outputs": [],
      "source": [
        "from sklearn.metrics import mean_absolute_error, mean_squared_error, r2_score\n",
        "\n",
        "# Predi├º├╡es\n",
        "pred_train = pipe.predict(X_train)\n",
        "pred_test = pipe.predict(X_test)\n",
        "\n",
        "# M├⌐tricas de treino\n",
        "mae_train = mean_absolute_error(y_train, pred_train)\n",
        "rmse_train = mean_squared_error(y_train, pred_train, squared=False)\n",
        "r2_train = r2_score(y_train, pred_train)\n",
        "\n",
        "# M├⌐tricas de teste\n",
        "mae_test = mean_absolute_error(y_test, pred_test)\n",
        "rmse_test = mean_squared_error(y_test, pred_test, squared=False)\n",
        "r2_test = r2_score(y_test, pred_test)\n",
        "\n",
        "print(\"=\"*70)\n",
        "print(\"RESULTADOS DO MODELO DE REGRESS├âO (Random Forest)\")\n",
        "print(\"=\"*70)\n",
        "print(f\"\\n≡ƒôè TREINO:\")\n",
        "print(f\"  MAE:  ${mae_train:,.2f}\")\n",
        "print(f\"  RMSE: ${rmse_train:,.2f}\")\n",
        "print(f\"  R┬▓:   {r2_train:.3f}\")\n",
        "\n",
        "print(f\"\\n≡ƒôè TESTE:\")\n",
        "print(f\"  MAE:  ${mae_test:,.2f}\")\n",
        "print(f\"  RMSE: ${rmse_test:,.2f}\")\n",
        "print(f\"  R┬▓:   {r2_test:.3f}\")\n",
        "print(\"=\"*70)\n"
      ]
    },
    {
      "cell_type": "code",
      "execution_count": null,
      "metadata": {},
      "outputs": [],
      "source": [
        "# Visualizar predi├º├╡es vs real\n",
        "fig, axes = plt.subplots(1, 2, figsize=(16, 6))\n",
        "\n",
        "# Scatter plot\n",
        "axes[0].scatter(y_test, pred_test, alpha=0.5, s=50)\n",
        "axes[0].plot([y_test.min(), y_test.max()], [y_test.min(), y_test.max()], \n",
        "             'r--', lw=2, label='Predi├º├úo Perfeita')\n",
        "axes[0].set_xlabel('Revenue Real ($)', fontsize=12)\n",
        "axes[0].set_ylabel('Revenue Previsto ($)', fontsize=12)\n",
        "axes[0].set_title('Predi├º├╡es vs Real (Teste)', fontsize=14, fontweight='bold')\n",
        "axes[0].legend()\n",
        "axes[0].grid(True, alpha=0.3)\n",
        "\n",
        "# Res├¡duos\n",
        "residuals = y_test - pred_test\n",
        "axes[1].scatter(pred_test, residuals, alpha=0.5, s=50)\n",
        "axes[1].axhline(y=0, color='r', linestyle='--', lw=2)\n",
        "axes[1].set_xlabel('Revenue Previsto ($)', fontsize=12)\n",
        "axes[1].set_ylabel('Res├¡duos ($)', fontsize=12)\n",
        "axes[1].set_title('An├ílise de Res├¡duos', fontsize=14, fontweight='bold')\n",
        "axes[1].grid(True, alpha=0.3)\n",
        "\n",
        "plt.tight_layout()\n",
        "plt.show()\n",
        "\n",
        "print(f\"MAPE (Erro Percentual M├⌐dio): {np.mean(np.abs(residuals / y_test)) * 100:.2f}%\")\n"
      ]
    },
    {
      "cell_type": "markdown",
      "metadata": {},
      "source": [
        "## 7. Previs├úo Futura (Pr├│ximos 3 Meses)\n"
      ]
    },
    {
      "cell_type": "code",
      "execution_count": null,
      "metadata": {},
      "outputs": [],
      "source": [
        "# Gerar grid de previs├úo para pr├│ximos 3 meses\n",
        "last_date = agg[\"YearMonth\"].max()\n",
        "future_months = pd.period_range(last_date + pd.DateOffset(months=1), periods=3, freq=\"M\").to_timestamp()\n",
        "\n",
        "print(f\"├Ültima data nos dados: {last_date}\")\n",
        "print(f\"Prevendo para: {future_months.tolist()}\")\n",
        "\n",
        "# Grid: todas combina├º├╡es de Produto ├ù Cidade ├ù Estado ├ù M├¬s futuro\n",
        "grid = (agg[[\"Product\", \"City\", \"State\"]].drop_duplicates()\n",
        "        .assign(key=1)\n",
        "        .merge(pd.DataFrame({\"YearMonth\": future_months, \"key\": [1]*len(future_months)}), on=\"key\")\n",
        "        .drop(\"key\", axis=1))\n",
        "\n",
        "grid[\"YM_year\"] = grid[\"YearMonth\"].dt.year\n",
        "grid[\"YM_month\"] = grid[\"YearMonth\"].dt.month\n",
        "\n",
        "# Usar ├║ltimo pre├ºo m├⌐dio conhecido por grupo como proxy\n",
        "last_price = agg.groupby([\"Product\", \"City\", \"State\"])[\"AvgPrice\"].last()\n",
        "grid = grid.merge(last_price.rename(\"AvgPrice\"), on=[\"Product\", \"City\", \"State\"], how=\"left\")\n",
        "\n",
        "print(f\"\\nGrid de previs├úo: {grid.shape[0]:,} combina├º├╡es\")\n"
      ]
    },
    {
      "cell_type": "code",
      "execution_count": null,
      "metadata": {},
      "outputs": [],
      "source": [
        "# Fazer previs├╡es\n",
        "future_pred = pipe.predict(grid[features_cols])\n",
        "grid[\"PredRevenue\"] = future_pred\n",
        "\n",
        "# Top 10 previs├╡es por m├¬s\n",
        "print(\"\\n\" + \"=\"*70)\n",
        "print(\"TOP 10 PREVIS├òES DE REVENUE POR M├èS FUTURO\")\n",
        "print(\"=\"*70)\n",
        "\n",
        "for month in future_months:\n",
        "    month_data = grid[grid[\"YearMonth\"] == month].nlargest(10, \"PredRevenue\")\n",
        "    print(f\"\\n≡ƒôà {month.strftime('%Y-%m')}:\")\n",
        "    print(month_data[[\"Product\", \"City\", \"State\", \"PredRevenue\"]].to_string(index=False))\n",
        "    print(f\"   Total previsto: ${month_data['PredRevenue'].sum():,.2f}\")\n"
      ]
    },
    {
      "cell_type": "code",
      "execution_count": null,
      "metadata": {},
      "outputs": [],
      "source": [
        "# Receita total prevista por m├¬s\n",
        "monthly_forecast = grid.groupby(\"YearMonth\")[\"PredRevenue\"].sum()\n",
        "\n",
        "plt.figure(figsize=(12, 6))\n",
        "plt.bar(range(len(monthly_forecast)), monthly_forecast.values, color=\"steelblue\", alpha=0.7)\n",
        "plt.xticks(range(len(monthly_forecast)), [d.strftime(\"%Y-%m\") for d in monthly_forecast.index], rotation=0)\n",
        "plt.title(\"Previs├úo de Receita Total - Pr├│ximos 3 Meses (Random Forest)\", \n",
        "          fontsize=14, fontweight=\"bold\")\n",
        "plt.xlabel(\"M├¬s\")\n",
        "plt.ylabel(\"Receita Prevista ($)\")\n",
        "plt.grid(True, alpha=0.3, axis='y')\n",
        "\n",
        "for i, v in enumerate(monthly_forecast.values):\n",
        "    plt.text(i, v, f'${v:,.0f}', ha='center', va='bottom', fontsize=10, fontweight='bold')\n",
        "\n",
        "plt.tight_layout()\n",
        "plt.show()\n"
      ]
    },
    {
      "cell_type": "markdown",
      "metadata": {},
      "source": [
        "---\n",
        "\n",
        "# PARTE 2: S├ëRIES TEMPORAIS\n",
        "\n",
        "**Objetivo:** Prever receita total mensal usando ARIMA/SARIMA e Prophet\n"
      ]
    },
    {
      "cell_type": "markdown",
      "metadata": {},
      "source": [
        "## 8. Prepara├º├úo: S├⌐rie Temporal Mensal\n"
      ]
    },
    {
      "cell_type": "code",
      "execution_count": null,
      "metadata": {},
      "outputs": [],
      "source": [
        "# Criar s├⌐rie temporal mensal total\n",
        "monthly = (df.assign(YearMonth=df[\"OrderDate\"].dt.to_period(\"M\").dt.to_timestamp())\n",
        "             .groupby(\"YearMonth\", as_index=True)[\"Revenue\"].sum()\n",
        "             .sort_index())\n",
        "\n",
        "print(f\"S├⌐rie temporal mensal: {len(monthly)} meses\")\n",
        "print(f\"Per├¡odo: {monthly.index.min()} at├⌐ {monthly.index.max()}\")\n",
        "print(\"\\nDados:\")\n",
        "print(monthly)\n"
      ]
    },
    {
      "cell_type": "code",
      "execution_count": null,
      "metadata": {},
      "outputs": [],
      "source": [
        "# Visualizar s├⌐rie temporal\n",
        "plt.figure(figsize=(14, 6))\n",
        "plt.plot(monthly.index, monthly.values, marker='o', linewidth=2, markersize=8, color='darkblue')\n",
        "plt.title(\"Receita Mensal Total - S├⌐rie Hist├│rica\", fontsize=14, fontweight='bold')\n",
        "plt.xlabel(\"M├¬s\")\n",
        "plt.ylabel(\"Receita ($)\")\n",
        "plt.grid(True, alpha=0.3)\n",
        "plt.xticks(rotation=45)\n",
        "plt.tight_layout()\n",
        "plt.show()\n"
      ]
    },
    {
      "cell_type": "code",
      "execution_count": null,
      "metadata": {},
      "outputs": [],
      "source": [
        "# Split temporal para s├⌐ries temporais\n",
        "cutoff_ts = monthly.index[int(len(monthly) * 0.8)]\n",
        "y_train_ts = monthly[monthly.index < cutoff_ts]\n",
        "y_test_ts = monthly[monthly.index >= cutoff_ts]\n",
        "\n",
        "print(f\"Treino: {len(y_train_ts)} meses (at├⌐ {cutoff_ts})\")\n",
        "print(f\"Teste: {len(y_test_ts)} meses (a partir de {cutoff_ts})\")\n"
      ]
    },
    {
      "cell_type": "markdown",
      "metadata": {},
      "source": [
        "## 9. Modelo SARIMA\n"
      ]
    },
    {
      "cell_type": "code",
      "execution_count": null,
      "metadata": {},
      "outputs": [],
      "source": [
        "from statsmodels.tsa.statespace.sarimax import SARIMAX\n",
        "import itertools\n",
        "\n",
        "print(\"Buscando melhor modelo SARIMA...\")\n",
        "print(\"(Isso pode levar alguns minutos...)\\n\")\n",
        "\n",
        "# Grid search simplificado\n",
        "p = d = q = range(0, 2)\n",
        "pdq = list(itertools.product(p, [1], q))\n",
        "seasonal_pdq = [(0, 1, 0, 12)]  # Simplificado para acelerar\n",
        "\n",
        "best = None\n",
        "best_aic = float(\"inf\")\n",
        "\n",
        "for order in pdq:\n",
        "    for sorder in seasonal_pdq:\n",
        "        try:\n",
        "            model = SARIMAX(y_train_ts, \n",
        "                          order=order, \n",
        "                          seasonal_order=sorder,\n",
        "                          enforce_stationarity=False,\n",
        "                          enforce_invertibility=False)\n",
        "            result = model.fit(disp=False, maxiter=200)\n",
        "            \n",
        "            if result.aic < best_aic:\n",
        "                best_aic = result.aic\n",
        "                best = (order, sorder)\n",
        "                print(f\"Γ£ô Novo melhor: {order}├ù{sorder} | AIC={best_aic:.2f}\")\n",
        "        except:\n",
        "            continue\n",
        "\n",
        "print(f\"\\nΓ£à Melhor modelo SARIMA: {best[0]} ├ù {best[1]}\")\n",
        "print(f\"   AIC: {best_aic:.2f}\")\n"
      ]
    },
    {
      "cell_type": "code",
      "execution_count": null,
      "metadata": {},
      "outputs": [],
      "source": [
        "# Treinar modelo final e fazer previs├╡es\n",
        "model_sarima = SARIMAX(y_train_ts,\n",
        "                      order=best[0],\n",
        "                      seasonal_order=best[1],\n",
        "                      enforce_stationarity=False,\n",
        "                      enforce_invertibility=False)\n",
        "result_sarima = model_sarima.fit(disp=False, maxiter=200)\n",
        "\n",
        "# Previs├úo no conjunto de teste\n",
        "pred_sarima_test = result_sarima.get_forecast(steps=len(y_test_ts)).predicted_mean\n",
        "\n",
        "# M├⌐tricas\n",
        "mae_sarima = mean_absolute_error(y_test_ts, pred_sarima_test)\n",
        "rmse_sarima = mean_squared_error(y_test_ts, pred_sarima_test, squared=False)\n",
        "mape_sarima = np.mean(np.abs((y_test_ts - pred_sarima_test) / y_test_ts)) * 100\n",
        "\n",
        "print(\"=\"*70)\n",
        "print(\"RESULTADOS SARIMA\")\n",
        "print(\"=\"*70)\n",
        "print(f\"MAE:  ${mae_sarima:,.2f}\")\n",
        "print(f\"RMSE: ${rmse_sarima:,.2f}\")\n",
        "print(f\"MAPE: {mape_sarima:.2f}%\")\n",
        "print(\"=\"*70)\n"
      ]
    },
    {
      "cell_type": "code",
      "execution_count": null,
      "metadata": {},
      "outputs": [],
      "source": [
        "# Visualizar previs├╡es SARIMA\n",
        "plt.figure(figsize=(14, 6))\n",
        "plt.plot(y_train_ts.index, y_train_ts.values, label='Treino', marker='o', linewidth=2)\n",
        "plt.plot(y_test_ts.index, y_test_ts.values, label='Teste (Real)', marker='o', linewidth=2, color='green')\n",
        "plt.plot(y_test_ts.index, pred_sarima_test.values, label='SARIMA (Previsto)', \n",
        "         marker='s', linewidth=2, linestyle='--', color='red')\n",
        "plt.title(\"SARIMA: Previs├úo vs Real\", fontsize=14, fontweight='bold')\n",
        "plt.xlabel(\"M├¬s\")\n",
        "plt.ylabel(\"Receita ($)\")\n",
        "plt.legend()\n",
        "plt.grid(True, alpha=0.3)\n",
        "plt.xticks(rotation=45)\n",
        "plt.tight_layout()\n",
        "plt.show()\n"
      ]
    },
    {
      "cell_type": "markdown",
      "metadata": {},
      "source": [
        "## 10. Previs├úo Futura com SARIMA (6 meses)\n"
      ]
    },
    {
      "cell_type": "code",
      "execution_count": null,
      "metadata": {},
      "outputs": [],
      "source": [
        "# Retreinar com todos os dados e prever 6 meses futuros\n",
        "model_full = SARIMAX(monthly,\n",
        "                    order=best[0],\n",
        "                    seasonal_order=best[1],\n",
        "                    enforce_stationarity=False,\n",
        "                    enforce_invertibility=False)\n",
        "result_full = model_full.fit(disp=False, maxiter=200)\n",
        "\n",
        "# Previs├úo futura\n",
        "n_future = 6\n",
        "forecast = result_full.get_forecast(steps=n_future)\n",
        "pred_future = forecast.predicted_mean\n",
        "conf_int = forecast.conf_int(alpha=0.2)  # IC 80%\n",
        "\n",
        "print(\"=\"*70)\n",
        "print(\"PREVIS├âO SARIMA - PR├ôXIMOS 6 MESES\")\n",
        "print(\"=\"*70)\n",
        "for i, (date, value) in enumerate(pred_future.items()):\n",
        "    lower = conf_int.iloc[i, 0]\n",
        "    upper = conf_int.iloc[i, 1]\n",
        "    print(f\"{date.strftime('%Y-%m')}: ${value:,.2f}  (IC: ${lower:,.2f} - ${upper:,.2f})\")\n",
        "print(\"=\"*70)\n"
      ]
    },
    {
      "cell_type": "code",
      "execution_count": null,
      "metadata": {},
      "outputs": [],
      "source": [
        "# Visualizar previs├úo futura com intervalo de confian├ºa\n",
        "plt.figure(figsize=(16, 6))\n",
        "\n",
        "# Hist├│rico\n",
        "plt.plot(monthly.index, monthly.values, label='Hist├│rico', marker='o', linewidth=2, color='blue')\n",
        "\n",
        "# Previs├úo\n",
        "future_dates = pred_future.index\n",
        "plt.plot(future_dates, pred_future.values, label='Previs├úo SARIMA', \n",
        "         marker='s', linewidth=2, linestyle='--', color='red', markersize=8)\n",
        "\n",
        "# Intervalo de confian├ºa\n",
        "plt.fill_between(future_dates, conf_int.iloc[:, 0], conf_int.iloc[:, 1], \n",
        "                 alpha=0.3, color='red', label='IC 80%')\n",
        "\n",
        "plt.title(\"SARIMA: Previs├úo de Receita - Pr├│ximos 6 Meses\", fontsize=14, fontweight='bold')\n",
        "plt.xlabel(\"M├¬s\")\n",
        "plt.ylabel(\"Receita ($)\")\n",
        "plt.legend()\n",
        "plt.grid(True, alpha=0.3)\n",
        "plt.xticks(rotation=45)\n",
        "plt.tight_layout()\n",
        "plt.show()\n"
      ]
    },
    {
      "cell_type": "markdown",
      "metadata": {},
      "source": [
        "## 11. Modelo Prophet\n"
      ]
    },
    {
      "cell_type": "code",
      "execution_count": null,
      "metadata": {},
      "outputs": [],
      "source": [
        "try:\n",
        "    from prophet import Prophet\n",
        "    \n",
        "    # Preparar dados para Prophet (requer 'ds' e 'y')\n",
        "    df_prophet = monthly.reset_index().rename(columns={\"YearMonth\": \"ds\", \"Revenue\": \"y\"})\n",
        "    \n",
        "    # Treino\n",
        "    df_prophet_train = df_prophet[df_prophet[\"ds\"] < cutoff_ts]\n",
        "    df_prophet_test = df_prophet[df_prophet[\"ds\"] >= cutoff_ts]\n",
        "    \n",
        "    print(\"Treinando modelo Prophet...\")\n",
        "    model_prophet = Prophet(\n",
        "        yearly_seasonality=True,\n",
        "        weekly_seasonality=False,\n",
        "        daily_seasonality=False,\n",
        "        seasonality_mode='multiplicative'\n",
        "    )\n",
        "    model_prophet.fit(df_prophet_train)\n",
        "    \n",
        "    # Previs├úo no teste\n",
        "    future_test = model_prophet.make_future_dataframe(periods=len(df_prophet_test), freq='MS')\n",
        "    forecast_test = model_prophet.predict(future_test)\n",
        "    \n",
        "    # Pegar apenas previs├╡es do per├¡odo de teste\n",
        "    pred_prophet_test = forecast_test.tail(len(df_prophet_test))[\"yhat\"].values\n",
        "    \n",
        "    # M├⌐tricas\n",
        "    mae_prophet = mean_absolute_error(y_test_ts, pred_prophet_test)\n",
        "    rmse_prophet = mean_squared_error(y_test_ts, pred_prophet_test, squared=False)\n",
        "    mape_prophet = np.mean(np.abs((y_test_ts.values - pred_prophet_test) / y_test_ts.values)) * 100\n",
        "    \n",
        "    print(\"=\"*70)\n",
        "    print(\"RESULTADOS PROPHET\")\n",
        "    print(\"=\"*70)\n",
        "    print(f\"MAE:  ${mae_prophet:,.2f}\")\n",
        "    print(f\"RMSE: ${rmse_prophet:,.2f}\")\n",
        "    print(f\"MAPE: {mape_prophet:.2f}%\")\n",
        "    print(\"=\"*70)\n",
        "    \n",
        "    prophet_available = True\n",
        "    \n",
        "except ImportError:\n",
        "    print(\"ΓÜá∩╕Å Prophet n├úo est├í instalado!\")\n",
        "    print(\"Para instalar: pip install prophet\")\n",
        "    prophet_available = False\n"
      ]
    },
    {
      "cell_type": "code",
      "execution_count": null,
      "metadata": {},
      "outputs": [],
      "source": [
        "if prophet_available:\n",
        "    # Previs├úo futura (6 meses)\n",
        "    model_prophet_full = Prophet(\n",
        "        yearly_seasonality=True,\n",
        "        weekly_seasonality=False,\n",
        "        daily_seasonality=False,\n",
        "        seasonality_mode='multiplicative'\n",
        "    )\n",
        "    model_prophet_full.fit(df_prophet)\n",
        "    \n",
        "    future_prophet = model_prophet_full.make_future_dataframe(periods=6, freq='MS')\n",
        "    forecast_prophet = model_prophet_full.predict(future_prophet)\n",
        "    \n",
        "    # Mostrar previs├╡es futuras\n",
        "    print(\"=\"*70)\n",
        "    print(\"PREVIS├âO PROPHET - PR├ôXIMOS 6 MESES\")\n",
        "    print(\"=\"*70)\n",
        "    future_only = forecast_prophet.tail(6)[[\"ds\", \"yhat\", \"yhat_lower\", \"yhat_upper\"]]\n",
        "    for _, row in future_only.iterrows():\n",
        "        print(f\"{row['ds'].strftime('%Y-%m')}: ${row['yhat']:,.2f}  \" + \n",
        "              f\"(IC: ${row['yhat_lower']:,.2f} - ${row['yhat_upper']:,.2f})\")\n",
        "    print(\"=\"*70)\n"
      ]
    },
    {
      "cell_type": "code",
      "execution_count": null,
      "metadata": {},
      "outputs": [],
      "source": [
        "if prophet_available:\n",
        "    # Visualizar componentes\n",
        "    fig = model_prophet_full.plot_components(forecast_prophet)\n",
        "    plt.tight_layout()\n",
        "    plt.show()\n"
      ]
    },
    {
      "cell_type": "markdown",
      "metadata": {},
      "source": [
        "## 12. Compara├º├úo Final dos Modelos\n"
      ]
    },
    {
      "cell_type": "code",
      "execution_count": null,
      "metadata": {},
      "outputs": [],
      "source": [
        "# Compara├º├úo dos modelos de s├⌐ries temporais\n",
        "print(\"=\"*70)\n",
        "print(\"COMPARA├ç├âO DE MODELOS - CONJUNTO DE TESTE\")\n",
        "print(\"=\"*70)\n",
        "\n",
        "comparison = pd.DataFrame({\n",
        "    \"Modelo\": [\"Random Forest (Agregado)\", \"SARIMA\", \"Prophet\"] if prophet_available else [\"SARIMA\"],\n",
        "    \"MAE\": [f\"${mae_test:,.2f}\", f\"${mae_sarima:,.2f}\"] + ([f\"${mae_prophet:,.2f}\"] if prophet_available else []),\n",
        "    \"RMSE\": [f\"${rmse_test:,.2f}\", f\"${rmse_sarima:,.2f}\"] + ([f\"${rmse_prophet:,.2f}\"] if prophet_available else []),\n",
        "    \"MAPE\": [f\"{np.mean(np.abs((y_test - pred_test) / y_test)) * 100:.2f}%\", \n",
        "             f\"{mape_sarima:.2f}%\"] + ([f\"{mape_prophet:.2f}%\"] if prophet_available else [])\n",
        "})\n",
        "\n",
        "print(comparison.to_string(index=False))\n",
        "print(\"=\"*70)\n"
      ]
    },
    {
      "cell_type": "markdown",
      "metadata": {},
      "source": [
        "## 13. Conclus├╡es e Recomenda├º├╡es\n",
        "\n",
        "### ≡ƒôè Resumo dos Resultados\n",
        "\n",
        "**1. Random Forest (Regress├úo)**\n",
        "- Γ£à Captura rela├º├╡es complexas entre produtos, cidades e tempo\n",
        "- Γ£à Permite previs├╡es granulares (por produto ├ù cidade)\n",
        "- Γ£à Bom para entender drivers de receita\n",
        "- ΓÜá∩╕Å Requer mais features e pode n├úo captar tend├¬ncias de longo prazo\n",
        "\n",
        "**2. SARIMA**\n",
        "- Γ£à Modela sazonalidade e tend├¬ncia automaticamente\n",
        "- Γ£à Intervalos de confian├ºa estat├¡sticos\n",
        "- Γ£à Bom para previs├╡es de curto/m├⌐dio prazo\n",
        "- ΓÜá∩╕Å Assume padr├╡es lineares\n",
        "\n",
        "**3. Prophet**\n",
        "- Γ£à Detecta automaticamente sazonalidade m├║ltipla\n",
        "- Γ£à Robusto a dados faltantes\n",
        "- Γ£à F├ícil de interpretar (componentes separados)\n",
        "- ΓÜá∩╕Å Pode ser otimista em previs├╡es longas\n",
        "\n",
        "### ≡ƒÄ» Recomenda├º├╡es\n",
        "\n",
        "1. **Para previs├úo total mensal:** Use **SARIMA** ou **Prophet**\n",
        "2. **Para previs├úo por produto/cidade:** Use **Random Forest**\n",
        "3. **Melhor pr├ítica:** Combine ambos (ensemble)\n",
        "\n",
        "### ≡ƒôü Pr├│ximos Passos\n",
        "\n",
        "1. Experimentar com **XGBoost** ou **LightGBM**\n",
        "2. Criar **ensemble** dos modelos\n",
        "3. Adicionar features externas (feriados, promo├º├╡es)\n",
        "4. Implementar **retreinamento autom├ítico**\n",
        "5. Criar **dashboard de monitoramento**\n"
      ]
    }
  ],
  "metadata": {
    "kernelspec": {
      "display_name": "venv",
      "language": "python",
      "name": "python3"
    },
    "language_info": {
      "codemirror_mode": {
        "name": "ipython",
        "version": 3
      },
      "file_extension": ".py",
      "mimetype": "text/x-python",
      "name": "python",
      "nbconvert_exporter": "python",
      "pygments_lexer": "ipython3",
      "version": "3.13.7"
    }
  },
  "nbformat": 4,
  "nbformat_minor": 2
}
