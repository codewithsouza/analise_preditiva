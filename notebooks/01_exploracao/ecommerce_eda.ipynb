﻿{
  "cells": [
    {
      "cell_type": "markdown",
      "metadata": {},
      "source": [
        "# ≡ƒôè An├ílise Explorat├│ria - E-commerce (Updated_sales.csv)\n",
        "\n",
        "Este notebook realiza a an├ílise explorat├│ria do dataset de e-commerce.\n",
        "\n",
        "**Dataset:** Updated_sales.csv  \n",
        "**Colunas:** Order ID, Product, Quantity Ordered, Price Each, Order Date, Purchase Address\n"
      ]
    },
    {
      "cell_type": "markdown",
      "metadata": {},
      "source": [
        "## 1. Setup e Imports\n"
      ]
    },
    {
      "cell_type": "code",
      "execution_count": null,
      "metadata": {},
      "outputs": [],
      "source": [
        "# Imports necess├írios\n",
        "import pandas as pd\n",
        "import numpy as np\n",
        "import matplotlib.pyplot as plt\n",
        "import seaborn as sns\n",
        "from pathlib import Path\n",
        "\n",
        "# Configura├º├╡es\n",
        "%matplotlib inline\n",
        "sns.set_style(\"whitegrid\")\n",
        "plt.rcParams['figure.figsize'] = (12, 6)\n",
        "\n",
        "# Caminho dos dados\n",
        "DATA_PATH = Path(\"../../data/raw/Updated_sales.csv\")\n"
      ]
    },
    {
      "cell_type": "markdown",
      "metadata": {},
      "source": [
        "## 2. Carregamento dos Dados\n"
      ]
    },
    {
      "cell_type": "code",
      "execution_count": null,
      "metadata": {},
      "outputs": [],
      "source": [
        "# Mapeamento de tipos (evita que o pandas chute tipos errados)\n",
        "dtypes = {\n",
        "    \"Order ID\": \"Int64\",               # Int64 permite NA\n",
        "    \"Product\": \"string\",\n",
        "    \"Quantity Ordered\": \"Int64\",\n",
        "    \"Price Each\": \"float64\",\n",
        "    \"Purchase Address\": \"string\"\n",
        "}\n",
        "\n",
        "# Leitura do CSV\n",
        "df_ecom = pd.read_csv(\n",
        "    DATA_PATH,\n",
        "    dtype=dtypes,\n",
        "    parse_dates=[\"Order Date\"],        # converte para datetime\n",
        "    dayfirst=False,                    # datas v├¬m como 04/19/19 (MM/DD/YY)\n",
        "    encoding=\"utf-8\",\n",
        "    na_values=[\"\", \"NA\", \"NaN\", \"null\"]\n",
        ")\n",
        "\n",
        "print(f\"Dataset carregado: {df_ecom.shape[0]:,} linhas x {df_ecom.shape[1]} colunas\")\n"
      ]
    },
    {
      "cell_type": "markdown",
      "metadata": {},
      "source": [
        "## 3. Vis├úo Geral dos Dados\n"
      ]
    },
    {
      "cell_type": "code",
      "execution_count": null,
      "metadata": {},
      "outputs": [],
      "source": [
        "# Informa├º├╡es b├ísicas\n",
        "print(\"=\" * 70)\n",
        "print(\"INFORMA├ç├òES GERAIS DO DATASET\")\n",
        "print(\"=\" * 70)\n",
        "print(f\"\\nShape: {df_ecom.shape}\")\n",
        "print(f\"Per├¡odo dos dados: {df_ecom['Order Date'].min()} at├⌐ {df_ecom['Order Date'].max()}\")\n",
        "print(f\"\\nColunas:\")\n",
        "print(df_ecom.dtypes)\n",
        "\n",
        "print(\"\\n\" + \"=\" * 70)\n",
        "print(\"PRIMEIRAS LINHAS\")\n",
        "print(\"=\" * 70)\n",
        "df_ecom.head(10)\n"
      ]
    },
    {
      "cell_type": "markdown",
      "metadata": {},
      "source": [
        "## 4. Limpeza de Dados\n"
      ]
    },
    {
      "cell_type": "code",
      "execution_count": null,
      "metadata": {},
      "outputs": [],
      "source": [
        "# Verificar valores nulos\n",
        "print(\"VALORES NULOS:\")\n",
        "print(df_ecom.isnull().sum())\n",
        "print(f\"\\nTotal de linhas com valores nulos: {df_ecom.isnull().any(axis=1).sum()}\")\n",
        "\n",
        "# Remover linhas com valores nulos\n",
        "df_ecom_clean = df_ecom.dropna()\n",
        "print(f\"\\nDataset ap├│s limpeza: {df_ecom_clean.shape[0]:,} linhas\")\n",
        "print(f\"Linhas removidas: {df_ecom.shape[0] - df_ecom_clean.shape[0]}\")\n"
      ]
    },
    {
      "cell_type": "markdown",
      "metadata": {},
      "source": [
        "## 5. Feature Engineering - Campos Derivados\n"
      ]
    },
    {
      "cell_type": "code",
      "execution_count": null,
      "metadata": {},
      "outputs": [],
      "source": [
        "# Campos derivados importantes\n",
        "df_ecom_clean[\"Revenue\"] = df_ecom_clean[\"Quantity Ordered\"] * df_ecom_clean[\"Price Each\"]\n",
        "df_ecom_clean[\"Month\"] = df_ecom_clean[\"Order Date\"].dt.month\n",
        "df_ecom_clean[\"Day\"] = df_ecom_clean[\"Order Date\"].dt.day\n",
        "df_ecom_clean[\"Hour\"] = df_ecom_clean[\"Order Date\"].dt.hour\n",
        "df_ecom_clean[\"DayOfWeek\"] = df_ecom_clean[\"Order Date\"].dt.dayofweek\n",
        "df_ecom_clean[\"WeekOfYear\"] = df_ecom_clean[\"Order Date\"].dt.isocalendar().week\n",
        "\n",
        "# Extrair cidade/estado/cep do endere├ºo (ex: \"915 Willow St, San Francisco, CA 94016\")\n",
        "parts = df_ecom_clean[\"Purchase Address\"].str.split(\",\", expand=True)\n",
        "df_ecom_clean[\"City\"] = parts[1].str.strip()\n",
        "state_zip = parts[2].str.strip().str.split(\" \", n=1, expand=True)\n",
        "df_ecom_clean[\"State\"] = state_zip[0]\n",
        "df_ecom_clean[\"Zip\"] = state_zip[1]\n",
        "\n",
        "print(\"NOVAS FEATURES CRIADAS:\")\n",
        "print(df_ecom_clean[[\"Order Date\", \"Revenue\", \"Month\", \"Hour\", \"City\", \"State\"]].head(10))\n"
      ]
    },
    {
      "cell_type": "markdown",
      "metadata": {},
      "source": [
        "## 6. Estat├¡sticas Descritivas\n"
      ]
    },
    {
      "cell_type": "code",
      "execution_count": null,
      "metadata": {},
      "outputs": [],
      "source": [
        "# Estat├¡sticas gerais\n",
        "print(\"=\" * 70)\n",
        "print(\"ESTAT├ìSTICAS DESCRITIVAS\")\n",
        "print(\"=\" * 70)\n",
        "print(df_ecom_clean[[\"Quantity Ordered\", \"Price Each\", \"Revenue\"]].describe())\n",
        "\n",
        "print(\"\\n\" + \"=\" * 70)\n",
        "print(\"M├ëTRICAS DE NEG├ôCIO\")\n",
        "print(\"=\" * 70)\n",
        "print(f\"Receita Total: ${df_ecom_clean['Revenue'].sum():,.2f}\")\n",
        "print(f\"Ticket M├⌐dio: ${df_ecom_clean['Revenue'].mean():,.2f}\")\n",
        "print(f\"Ticket Mediano: ${df_ecom_clean['Revenue'].median():,.2f}\")\n",
        "print(f\"N├║mero de Pedidos: {df_ecom_clean['Order ID'].nunique():,}\")\n",
        "print(f\"N├║mero de Produtos ├Ünicos: {df_ecom_clean['Product'].nunique()}\")\n",
        "print(f\"Quantidade Total Vendida: {df_ecom_clean['Quantity Ordered'].sum():,} unidades\")\n"
      ]
    },
    {
      "cell_type": "markdown",
      "metadata": {},
      "source": [
        "## 7. An├ílise Temporal\n"
      ]
    },
    {
      "cell_type": "code",
      "execution_count": null,
      "metadata": {},
      "outputs": [],
      "source": [
        "# Vendas por m├¬s\n",
        "monthly_sales = df_ecom_clean.groupby(\"Month\").agg({\n",
        "    \"Revenue\": \"sum\",\n",
        "    \"Order ID\": \"count\"\n",
        "}).round(2)\n",
        "monthly_sales.columns = [\"Receita Total\", \"N├║mero de Pedidos\"]\n",
        "\n",
        "print(\"VENDAS POR M├èS:\")\n",
        "print(monthly_sales)\n",
        "\n",
        "# Gr├ífico de vendas mensais\n",
        "fig, axes = plt.subplots(1, 2, figsize=(15, 5))\n",
        "\n",
        "monthly_sales[\"Receita Total\"].plot(kind=\"bar\", ax=axes[0], color=\"steelblue\")\n",
        "axes[0].set_title(\"Receita Total por M├¬s\", fontsize=14, fontweight=\"bold\")\n",
        "axes[0].set_xlabel(\"M├¬s\")\n",
        "axes[0].set_ylabel(\"Receita ($)\")\n",
        "axes[0].tick_params(axis='x', rotation=0)\n",
        "\n",
        "monthly_sales[\"N├║mero de Pedidos\"].plot(kind=\"bar\", ax=axes[1], color=\"coral\")\n",
        "axes[1].set_title(\"N├║mero de Pedidos por M├¬s\", fontsize=14, fontweight=\"bold\")\n",
        "axes[1].set_xlabel(\"M├¬s\")\n",
        "axes[1].set_ylabel(\"Quantidade de Pedidos\")\n",
        "axes[1].tick_params(axis='x', rotation=0)\n",
        "\n",
        "plt.tight_layout()\n",
        "plt.show()\n"
      ]
    },
    {
      "cell_type": "code",
      "execution_count": null,
      "metadata": {},
      "outputs": [],
      "source": [
        "# Vendas por hora do dia\n",
        "hourly_sales = df_ecom_clean.groupby(\"Hour\").agg({\n",
        "    \"Revenue\": \"sum\",\n",
        "    \"Order ID\": \"count\"\n",
        "}).round(2)\n",
        "\n",
        "print(\"\\nVENDAS POR HORA DO DIA:\")\n",
        "print(hourly_sales)\n",
        "\n",
        "# Gr├ífico\n",
        "plt.figure(figsize=(14, 5))\n",
        "plt.subplot(1, 2, 1)\n",
        "plt.plot(hourly_sales.index, hourly_sales[\"Revenue\"], marker=\"o\", linewidth=2, color=\"green\")\n",
        "plt.title(\"Receita por Hora do Dia\", fontsize=14, fontweight=\"bold\")\n",
        "plt.xlabel(\"Hora\")\n",
        "plt.ylabel(\"Receita ($)\")\n",
        "plt.grid(True, alpha=0.3)\n",
        "\n",
        "plt.subplot(1, 2, 2)\n",
        "plt.plot(hourly_sales.index, hourly_sales[\"Order ID\"], marker=\"o\", linewidth=2, color=\"orange\")\n",
        "plt.title(\"Pedidos por Hora do Dia\", fontsize=14, fontweight=\"bold\")\n",
        "plt.xlabel(\"Hora\")\n",
        "plt.ylabel(\"N├║mero de Pedidos\")\n",
        "plt.grid(True, alpha=0.3)\n",
        "\n",
        "plt.tight_layout()\n",
        "plt.show()\n"
      ]
    },
    {
      "cell_type": "code",
      "execution_count": null,
      "metadata": {},
      "outputs": [],
      "source": [
        "# Vendas por dia da semana (0=Segunda, 6=Domingo)\n",
        "days_map = {0: \"Segunda\", 1: \"Ter├ºa\", 2: \"Quarta\", 3: \"Quinta\", 4: \"Sexta\", 5: \"S├íbado\", 6: \"Domingo\"}\n",
        "df_ecom_clean[\"DayName\"] = df_ecom_clean[\"DayOfWeek\"].map(days_map)\n",
        "\n",
        "dow_sales = df_ecom_clean.groupby(\"DayName\").agg({\n",
        "    \"Revenue\": \"sum\",\n",
        "    \"Order ID\": \"count\"\n",
        "}).reindex(days_map.values())\n",
        "\n",
        "print(\"\\nVENDAS POR DIA DA SEMANA:\")\n",
        "print(dow_sales)\n",
        "\n",
        "# Gr├ífico\n",
        "fig, ax = plt.subplots(figsize=(12, 5))\n",
        "dow_sales[\"Revenue\"].plot(kind=\"bar\", ax=ax, color=\"purple\", alpha=0.7)\n",
        "ax.set_title(\"Receita por Dia da Semana\", fontsize=14, fontweight=\"bold\")\n",
        "ax.set_xlabel(\"Dia da Semana\")\n",
        "ax.set_ylabel(\"Receita ($)\")\n",
        "ax.tick_params(axis='x', rotation=45)\n",
        "plt.tight_layout()\n",
        "plt.show()\n"
      ]
    },
    {
      "cell_type": "markdown",
      "metadata": {},
      "source": [
        "## 8. An├ílise de Produtos\n"
      ]
    },
    {
      "cell_type": "code",
      "execution_count": null,
      "metadata": {},
      "outputs": [],
      "source": [
        "# Top 10 produtos mais vendidos (por quantidade)\n",
        "top_products_qty = df_ecom_clean.groupby(\"Product\")[\"Quantity Ordered\"].sum().sort_values(ascending=False).head(10)\n",
        "\n",
        "print(\"TOP 10 PRODUTOS MAIS VENDIDOS (Quantidade):\")\n",
        "print(top_products_qty)\n",
        "\n",
        "# Top 10 produtos por receita\n",
        "top_products_rev = df_ecom_clean.groupby(\"Product\")[\"Revenue\"].sum().sort_values(ascending=False).head(10)\n",
        "\n",
        "print(\"\\nTOP 10 PRODUTOS POR RECEITA:\")\n",
        "print(top_products_rev)\n",
        "\n",
        "# Gr├íficos\n",
        "fig, axes = plt.subplots(2, 1, figsize=(14, 10))\n",
        "\n",
        "top_products_qty.plot(kind=\"barh\", ax=axes[0], color=\"skyblue\")\n",
        "axes[0].set_title(\"Top 10 Produtos Mais Vendidos (Quantidade)\", fontsize=14, fontweight=\"bold\")\n",
        "axes[0].set_xlabel(\"Quantidade Vendida\")\n",
        "axes[0].invert_yaxis()\n",
        "\n",
        "top_products_rev.plot(kind=\"barh\", ax=axes[1], color=\"lightcoral\")\n",
        "axes[1].set_title(\"Top 10 Produtos por Receita\", fontsize=14, fontweight=\"bold\")\n",
        "axes[1].set_xlabel(\"Receita ($)\")\n",
        "axes[1].invert_yaxis()\n",
        "\n",
        "plt.tight_layout()\n",
        "plt.show()\n"
      ]
    },
    {
      "cell_type": "code",
      "execution_count": null,
      "metadata": {},
      "outputs": [],
      "source": [
        "# Distribui├º├úo de pre├ºos\n",
        "plt.figure(figsize=(14, 5))\n",
        "\n",
        "plt.subplot(1, 2, 1)\n",
        "plt.hist(df_ecom_clean[\"Price Each\"], bins=50, color=\"teal\", alpha=0.7, edgecolor=\"black\")\n",
        "plt.title(\"Distribui├º├úo de Pre├ºos\", fontsize=14, fontweight=\"bold\")\n",
        "plt.xlabel(\"Pre├ºo ($)\")\n",
        "plt.ylabel(\"Frequ├¬ncia\")\n",
        "plt.grid(True, alpha=0.3)\n",
        "\n",
        "plt.subplot(1, 2, 2)\n",
        "plt.boxplot(df_ecom_clean[\"Price Each\"])\n",
        "plt.title(\"Box Plot - Pre├ºos\", fontsize=14, fontweight=\"bold\")\n",
        "plt.ylabel(\"Pre├ºo ($)\")\n",
        "plt.grid(True, alpha=0.3)\n",
        "\n",
        "plt.tight_layout()\n",
        "plt.show()\n",
        "\n",
        "print(f\"\\nFaixa de pre├ºos: ${df_ecom_clean['Price Each'].min():.2f} - ${df_ecom_clean['Price Each'].max():.2f}\")\n"
      ]
    },
    {
      "cell_type": "markdown",
      "metadata": {},
      "source": [
        "## 9. An├ílise Geogr├ífica\n"
      ]
    },
    {
      "cell_type": "code",
      "execution_count": null,
      "metadata": {},
      "outputs": [],
      "source": [
        "# Vendas por cidade\n",
        "city_sales = df_ecom_clean.groupby(\"City\").agg({\n",
        "    \"Revenue\": \"sum\",\n",
        "    \"Order ID\": \"count\"\n",
        "}).sort_values(\"Revenue\", ascending=False)\n",
        "city_sales.columns = [\"Receita Total\", \"N├║mero de Pedidos\"]\n",
        "\n",
        "print(\"VENDAS POR CIDADE:\")\n",
        "print(city_sales)\n",
        "\n",
        "# Gr├ífico\n",
        "fig, axes = plt.subplots(1, 2, figsize=(16, 6))\n",
        "\n",
        "city_sales[\"Receita Total\"].plot(kind=\"barh\", ax=axes[0], color=\"darkgreen\")\n",
        "axes[0].set_title(\"Receita por Cidade\", fontsize=14, fontweight=\"bold\")\n",
        "axes[0].set_xlabel(\"Receita ($)\")\n",
        "axes[0].invert_yaxis()\n",
        "\n",
        "city_sales[\"N├║mero de Pedidos\"].plot(kind=\"barh\", ax=axes[1], color=\"darkblue\")\n",
        "axes[1].set_title(\"N├║mero de Pedidos por Cidade\", fontsize=14, fontweight=\"bold\")\n",
        "axes[1].set_xlabel(\"N├║mero de Pedidos\")\n",
        "axes[1].invert_yaxis()\n",
        "\n",
        "plt.tight_layout()\n",
        "plt.show()\n"
      ]
    },
    {
      "cell_type": "code",
      "execution_count": null,
      "metadata": {},
      "outputs": [],
      "source": [
        "# Vendas por estado\n",
        "state_sales = df_ecom_clean.groupby(\"State\").agg({\n",
        "    \"Revenue\": \"sum\",\n",
        "    \"Order ID\": \"count\"\n",
        "}).sort_values(\"Revenue\", ascending=False)\n",
        "\n",
        "print(\"\\nVENDAS POR ESTADO:\")\n",
        "print(state_sales)\n",
        "\n",
        "# Gr├ífico\n",
        "fig, ax = plt.subplots(figsize=(12, 6))\n",
        "state_sales[\"Revenue\"].plot(kind=\"bar\", ax=ax, color=\"darkorange\", alpha=0.7)\n",
        "ax.set_title(\"Receita por Estado\", fontsize=14, fontweight=\"bold\")\n",
        "ax.set_xlabel(\"Estado\")\n",
        "ax.set_ylabel(\"Receita ($)\")\n",
        "ax.tick_params(axis='x', rotation=45)\n",
        "plt.tight_layout()\n",
        "plt.show()\n"
      ]
    },
    {
      "cell_type": "markdown",
      "metadata": {},
      "source": [
        "## 10. Correla├º├╡es e An├ílise Avan├ºada\n"
      ]
    },
    {
      "cell_type": "code",
      "execution_count": null,
      "metadata": {},
      "outputs": [],
      "source": [
        "# Matriz de correla├º├úo\n",
        "numeric_cols = [\"Quantity Ordered\", \"Price Each\", \"Revenue\", \"Month\", \"Hour\", \"DayOfWeek\"]\n",
        "correlation_matrix = df_ecom_clean[numeric_cols].corr()\n",
        "\n",
        "plt.figure(figsize=(10, 8))\n",
        "sns.heatmap(correlation_matrix, annot=True, fmt=\".2f\", cmap=\"coolwarm\", center=0,\n",
        "            square=True, linewidths=1, cbar_kws={\"shrink\": 0.8})\n",
        "plt.title(\"Matriz de Correla├º├úo\", fontsize=14, fontweight=\"bold\")\n",
        "plt.tight_layout()\n",
        "plt.show()\n"
      ]
    },
    {
      "cell_type": "code",
      "execution_count": null,
      "metadata": {},
      "outputs": [],
      "source": [
        "# An├ílise de tend├¬ncia temporal - Vendas ao longo do tempo\n",
        "daily_sales = df_ecom_clean.groupby(df_ecom_clean[\"Order Date\"].dt.date)[\"Revenue\"].sum()\n",
        "\n",
        "plt.figure(figsize=(16, 6))\n",
        "plt.plot(daily_sales.index, daily_sales.values, linewidth=1.5, color=\"darkblue\", alpha=0.7)\n",
        "plt.title(\"Evolu├º├úo Di├íria da Receita\", fontsize=14, fontweight=\"bold\")\n",
        "plt.xlabel(\"Data\")\n",
        "plt.ylabel(\"Receita ($)\")\n",
        "plt.xticks(rotation=45)\n",
        "plt.grid(True, alpha=0.3)\n",
        "plt.tight_layout()\n",
        "plt.show()\n",
        "\n",
        "print(f\"Maior receita di├íria: ${daily_sales.max():,.2f} em {daily_sales.idxmax()}\")\n",
        "print(f\"Menor receita di├íria: ${daily_sales.min():,.2f} em {daily_sales.idxmin()}\")\n"
      ]
    },
    {
      "cell_type": "markdown",
      "metadata": {},
      "source": [
        "## 11. Prepara├º├úo para Modelagem Preditiva\n"
      ]
    },
    {
      "cell_type": "code",
      "execution_count": null,
      "metadata": {},
      "outputs": [],
      "source": [
        "# Preparar dados agregados para previs├úo de s├⌐ries temporais\n",
        "# Agrega├º├úo di├íria\n",
        "ts_daily = df_ecom_clean.groupby(df_ecom_clean[\"Order Date\"].dt.date).agg({\n",
        "    \"Revenue\": \"sum\",\n",
        "    \"Order ID\": \"count\",\n",
        "    \"Quantity Ordered\": \"sum\"\n",
        "}).reset_index()\n",
        "ts_daily.columns = [\"Date\", \"Revenue\", \"Orders\", \"Quantity\"]\n",
        "ts_daily[\"Date\"] = pd.to_datetime(ts_daily[\"Date\"])\n",
        "\n",
        "print(\"DADOS PARA MODELAGEM (S├⌐ries Temporais Di├írias):\")\n",
        "print(ts_daily.head(10))\n",
        "print(f\"\\nShape: {ts_daily.shape}\")\n",
        "\n",
        "# Agrega├º├úo mensal\n",
        "ts_monthly = df_ecom_clean.groupby(df_ecom_clean[\"Order Date\"].dt.to_period(\"M\")).agg({\n",
        "    \"Revenue\": \"sum\",\n",
        "    \"Order ID\": \"count\",\n",
        "    \"Quantity Ordered\": \"sum\"\n",
        "}).reset_index()\n",
        "ts_monthly.columns = [\"Month\", \"Revenue\", \"Orders\", \"Quantity\"]\n",
        "ts_monthly[\"Month\"] = ts_monthly[\"Month\"].dt.to_timestamp()\n",
        "\n",
        "print(\"\\nDADOS PARA MODELAGEM (S├⌐ries Temporais Mensais):\")\n",
        "print(ts_monthly)\n"
      ]
    },
    {
      "cell_type": "markdown",
      "metadata": {},
      "source": [
        "## 12. Exportar Dados Processados\n"
      ]
    },
    {
      "cell_type": "code",
      "execution_count": null,
      "metadata": {},
      "outputs": [],
      "source": [
        "# Exportar dados limpos e com features\n",
        "output_path_clean = Path(\"../../data/processed/ecommerce_clean.parquet\")\n",
        "output_path_daily = Path(\"../../data/processed/ecommerce_daily_ts.parquet\")\n",
        "output_path_monthly = Path(\"../../data/processed/ecommerce_monthly_ts.parquet\")\n",
        "\n",
        "df_ecom_clean.to_parquet(output_path_clean, index=False)\n",
        "ts_daily.to_parquet(output_path_daily, index=False)\n",
        "ts_monthly.to_parquet(output_path_monthly, index=False)\n",
        "\n",
        "print(f\"Γ£à Dados limpos exportados: {output_path_clean}\")\n",
        "print(f\"Γ£à S├⌐rie temporal di├íria exportada: {output_path_daily}\")\n",
        "print(f\"Γ£à S├⌐rie temporal mensal exportada: {output_path_monthly}\")\n",
        "print(\"\\nPr├│ximos passos: Use esses dados para modelagem preditiva!\")\n"
      ]
    },
    {
      "cell_type": "markdown",
      "metadata": {},
      "source": [
        "## 13. Insights e Conclus├╡es\n"
      ]
    },
    {
      "cell_type": "markdown",
      "metadata": {},
      "source": [
        "### ≡ƒôè Principais Descobertas\n",
        "\n",
        "**1. Padr├╡es Temporais:**\n",
        "- Identificar qual m├¬s tem maior receita\n",
        "- Hor├írios de pico de vendas (provavelmente 11h-13h e 18h-20h)\n",
        "- Dias da semana com melhor performance\n",
        "\n",
        "**2. Produtos:**\n",
        "- Produtos mais vendidos vs produtos mais lucrativos\n",
        "- Distribui├º├úo de pre├ºos\n",
        "- Oportunidades de cross-selling\n",
        "\n",
        "**3. Geografia:**\n",
        "- Cidades e estados com maior receita\n",
        "- Oportunidades de expans├úo\n",
        "- Concentra├º├úo geogr├ífica de vendas\n",
        "\n",
        "**4. M├⌐tricas de Neg├│cio:**\n",
        "- Receita total e tend├¬ncia\n",
        "- Ticket m├⌐dio\n",
        "- Sazonalidade\n",
        "\n",
        "### ≡ƒÄ» Pr├│ximos Passos para Modelagem Preditiva\n",
        "\n",
        "1. **Previs├úo de Vendas (Time Series)**\n",
        "   - Usar ARIMA, Prophet ou SARIMA\n",
        "   - Dataset: `ecommerce_daily_ts.parquet` ou `ecommerce_monthly_ts.parquet`\n",
        "   - Objetivo: Prever receita futura\n",
        "\n",
        "2. **Segmenta├º├úo de Produtos**\n",
        "   - Clustering (K-means)\n",
        "   - An├ílise de cesta de compras\n",
        "   - Objetivo: Identificar grupos de produtos\n",
        "\n",
        "3. **An├ílise de Demanda**\n",
        "   - Prever demanda por produto\n",
        "   - Otimizar estoque\n",
        "   - Objetivo: Reduzir custos\n",
        "\n",
        "4. **Recomenda├º├úo**\n",
        "   - Produtos frequentemente comprados juntos\n",
        "   - Objetivo: Aumentar vendas\n",
        "\n",
        "### ≡ƒôü Arquivos Gerados\n",
        "\n",
        "- `data/processed/ecommerce_clean.parquet` - Dados completos limpos\n",
        "- `data/processed/ecommerce_daily_ts.parquet` - S├⌐rie temporal di├íria\n",
        "- `data/processed/ecommerce_monthly_ts.parquet` - S├⌐rie temporal mensal\n",
        "\n",
        "### ≡ƒÜÇ Continue em:\n",
        "\n",
        "- **notebooks/04_modelagem/** - Para implementar modelos preditivos\n"
      ]
    },
    {
      "cell_type": "markdown",
      "metadata": {},
      "source": [
        "## 4. Insights e Conclus├╡es\n",
        "\n",
        "- **Insight 1:** ...\n",
        "- **Insight 2:** ...\n",
        "- **Pr├│ximos passos:** ...\n"
      ]
    }
  ],
  "metadata": {
    "language_info": {
      "name": "python"
    }
  },
  "nbformat": 4,
  "nbformat_minor": 2
}
